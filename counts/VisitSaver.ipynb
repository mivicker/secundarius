{
 "cells": [
  {
   "cell_type": "code",
   "execution_count": null,
   "metadata": {},
   "outputs": [],
   "source": [
    "class Visit(models.Model):\n",
    "    date = models.DateField()\n",
    "    member_id = models.CharField(max_length=15)\n",
    "    driver = models.CharField(max_length=50) # driver email\n",
    "    \n",
    "    def as_tuple(self):\n",
    "        return (self.driver, self.member_id)\n",
    "\n",
    "    def __str__(self):\n",
    "        return f'{self.driver} visited {self.member_id} on {self.date}'"
   ]
  },
  {
   "cell_type": "code",
   "execution_count": 1,
   "metadata": {},
   "outputs": [],
   "source": [
    "from typing import Dict\n",
    "from pathlib import Path\n",
    "import pandas as pd\n",
    "from simple_jsonifier import make_json, dump_json"
   ]
  },
  {
   "cell_type": "code",
   "execution_count": 2,
   "metadata": {},
   "outputs": [],
   "source": [
    "def change_keys(dictionary: Dict[str,str]) -> dict:\n",
    "    return{key.lower().replace('#', 'num').replace(' ', '_'): dictionary[key] \n",
    "           for key in dictionary.keys()}\n",
    "\n",
    "def normalize_string(chars: str) -> str:\n",
    "    return chars.lower().replace(' ', '_')"
   ]
  },
  {
   "cell_type": "code",
   "execution_count": 8,
   "metadata": {},
   "outputs": [
    {
     "name": "stderr",
     "output_type": "stream",
     "text": [
      "C:\\ProgramData\\Anaconda3\\lib\\site-packages\\IPython\\core\\interactiveshell.py:3146: DtypeWarning: Columns (29) have mixed types.Specify dtype option on import or set low_memory=False.\n",
      "  has_raised = await self.run_ast_nodes(code_ast.body, cell_name,\n"
     ]
    }
   ],
   "source": [
    "df = pd.read_csv(Path(Path.home(), 'desktop', 'DELIVERIES.csv'))\n",
    "df['Delivery Date'] = pd.to_datetime(df['Delivery Date'])"
   ]
  },
  {
   "cell_type": "code",
   "execution_count": 9,
   "metadata": {},
   "outputs": [],
   "source": [
    "completed = df[df['Delivery Status'] == 'Completed'].copy()"
   ]
  },
  {
   "cell_type": "code",
   "execution_count": 12,
   "metadata": {},
   "outputs": [],
   "source": [
    "emails = {\n",
    "    'Dylan Burke': 'dburke@gcfb.org',\n",
    "    'Nate Mills': 'nmills@gcfb.org',\n",
    "    'Scarlet Decollibus': 'sdecollibus@gcfb.org',\n",
    "    'Kevin Lomeli': 'klomeli@gcfb.org',\n",
    "    'Lucy Nord': 'lnord@gcfb.org',\n",
    "    'Mike Vickers': 'mvickers@gcfb.org',\n",
    "}\n",
    "\n",
    "\n",
    "def apply_dict(dictionary):\n",
    "    return lambda val: dictionary.get(val, val)\n",
    "\n",
    "\n",
    "visits = (completed[['Member ID', 'Delivery Date', 'Driver']]\n",
    "              .rename(columns=normalize_string)\n",
    "              .dropna()\n",
    "              .applymap(apply_dict(emails)))\n",
    "\n",
    "visits['delivery_date'] = visits['delivery_date'].dt.strftime('%Y-%m-%d')"
   ]
  },
  {
   "cell_type": "code",
   "execution_count": 13,
   "metadata": {},
   "outputs": [],
   "source": [
    "dump_json(make_json(visits.to_dict(orient='records'), 'routes.visit'), Path('data', 'visits.json'))"
   ]
  },
  {
   "cell_type": "code",
   "execution_count": null,
   "metadata": {},
   "outputs": [],
   "source": []
  }
 ],
 "metadata": {
  "kernelspec": {
   "display_name": "Python 3",
   "language": "python",
   "name": "python3"
  },
  "language_info": {
   "codemirror_mode": {
    "name": "ipython",
    "version": 3
   },
   "file_extension": ".py",
   "mimetype": "text/x-python",
   "name": "python",
   "nbconvert_exporter": "python",
   "pygments_lexer": "ipython3",
   "version": "3.8.5"
  }
 },
 "nbformat": 4,
 "nbformat_minor": 4
}

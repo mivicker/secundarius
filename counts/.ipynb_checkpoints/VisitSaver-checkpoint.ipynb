{
 "cells": [
  {
   "cell_type": "code",
   "execution_count": null,
   "metadata": {},
   "outputs": [],
   "source": [
    "class Visit(models.Model):\n",
    "    date = models.DateField()\n",
    "    member_id = models.CharField(max_length=15)\n",
    "    driver = models.CharField(max_length=50) # driver email\n",
    "    \n",
    "    def as_tuple(self):\n",
    "        return (self.driver, self.member_id)\n",
    "\n",
    "    def __str__(self):\n",
    "        return f'{self.driver} visited {self.member_id} on {self.date}'"
   ]
  },
  {
   "cell_type": "code",
   "execution_count": 12,
   "metadata": {},
   "outputs": [],
   "source": [
    "from typing import Dict\n",
    "from pathlib import Path\n",
    "import pandas as pd\n",
    "from simple_jsonifier import make_json, dump_json"
   ]
  },
  {
   "cell_type": "code",
   "execution_count": 16,
   "metadata": {},
   "outputs": [
    {
     "ename": "NameError",
     "evalue": "name 'Dict' is not defined",
     "output_type": "error",
     "traceback": [
      "\u001b[1;31m---------------------------------------------------------------------------\u001b[0m",
      "\u001b[1;31mNameError\u001b[0m                                 Traceback (most recent call last)",
      "\u001b[1;32m<ipython-input-16-62447de67988>\u001b[0m in \u001b[0;36m<module>\u001b[1;34m\u001b[0m\n\u001b[1;32m----> 1\u001b[1;33m \u001b[1;32mdef\u001b[0m \u001b[0mchange_keys\u001b[0m\u001b[1;33m(\u001b[0m\u001b[0mdictionary\u001b[0m\u001b[1;33m:\u001b[0m \u001b[0mDict\u001b[0m\u001b[1;33m[\u001b[0m\u001b[0mstr\u001b[0m\u001b[1;33m,\u001b[0m\u001b[0mstr\u001b[0m\u001b[1;33m]\u001b[0m\u001b[1;33m)\u001b[0m \u001b[1;33m->\u001b[0m \u001b[0mdict\u001b[0m\u001b[1;33m:\u001b[0m\u001b[1;33m\u001b[0m\u001b[1;33m\u001b[0m\u001b[0m\n\u001b[0m\u001b[0;32m      2\u001b[0m     return{key.lower().replace('#', 'num').replace(' ', '_'): dictionary[key] \n\u001b[0;32m      3\u001b[0m            for key in dictionary.keys()}\n",
      "\u001b[1;31mNameError\u001b[0m: name 'Dict' is not defined"
     ]
    }
   ],
   "source": [
    "def change_keys(dictionary: Dict[str,str]) -> dict:\n",
    "    return{key.lower().replace('#', 'num').replace(' ', '_'): dictionary[key] \n",
    "           for key in dictionary.keys()}\n"
   ]
  },
  {
   "cell_type": "code",
   "execution_count": 2,
   "metadata": {},
   "outputs": [
    {
     "name": "stderr",
     "output_type": "stream",
     "text": [
      "C:\\ProgramData\\Anaconda3\\lib\\site-packages\\IPython\\core\\interactiveshell.py:3146: DtypeWarning: Columns (29) have mixed types.Specify dtype option on import or set low_memory=False.\n",
      "  has_raised = await self.run_ast_nodes(code_ast.body, cell_name,\n"
     ]
    }
   ],
   "source": [
    "df = pd.read_csv(Path(Path.home(), 'desktop', 'DELIVERIES.csv'))"
   ]
  },
  {
   "cell_type": "code",
   "execution_count": 4,
   "metadata": {},
   "outputs": [],
   "source": [
    "completed = df[df['Delivery Status'] == 'Completed'].copy()"
   ]
  },
  {
   "cell_type": "code",
   "execution_count": 7,
   "metadata": {},
   "outputs": [
    {
     "data": {
      "text/html": [
       "<div>\n",
       "<style scoped>\n",
       "    .dataframe tbody tr th:only-of-type {\n",
       "        vertical-align: middle;\n",
       "    }\n",
       "\n",
       "    .dataframe tbody tr th {\n",
       "        vertical-align: top;\n",
       "    }\n",
       "\n",
       "    .dataframe thead th {\n",
       "        text-align: right;\n",
       "    }\n",
       "</style>\n",
       "<table border=\"1\" class=\"dataframe\">\n",
       "  <thead>\n",
       "    <tr style=\"text-align: right;\">\n",
       "      <th></th>\n",
       "      <th>Member ID</th>\n",
       "      <th>Delivery Date</th>\n",
       "      <th>Driver</th>\n",
       "    </tr>\n",
       "  </thead>\n",
       "  <tbody>\n",
       "    <tr>\n",
       "      <th>11</th>\n",
       "      <td>10808317</td>\n",
       "      <td>6/23/2021</td>\n",
       "      <td>Dylan Burke</td>\n",
       "    </tr>\n",
       "    <tr>\n",
       "      <th>13</th>\n",
       "      <td>10808317</td>\n",
       "      <td>7/21/2021</td>\n",
       "      <td>Nate Mills</td>\n",
       "    </tr>\n",
       "    <tr>\n",
       "      <th>14</th>\n",
       "      <td>10808317</td>\n",
       "      <td>8/4/2021</td>\n",
       "      <td>Dylan Burke</td>\n",
       "    </tr>\n",
       "    <tr>\n",
       "      <th>15</th>\n",
       "      <td>10808317</td>\n",
       "      <td>8/18/2021</td>\n",
       "      <td>Dylan Burke</td>\n",
       "    </tr>\n",
       "    <tr>\n",
       "      <th>16</th>\n",
       "      <td>10808317</td>\n",
       "      <td>9/1/2021</td>\n",
       "      <td>Dylan Burke</td>\n",
       "    </tr>\n",
       "    <tr>\n",
       "      <th>...</th>\n",
       "      <td>...</td>\n",
       "      <td>...</td>\n",
       "      <td>...</td>\n",
       "    </tr>\n",
       "    <tr>\n",
       "      <th>26781</th>\n",
       "      <td>14176273</td>\n",
       "      <td>10/15/2021</td>\n",
       "      <td>Scarlet Decollibus</td>\n",
       "    </tr>\n",
       "    <tr>\n",
       "      <th>26782</th>\n",
       "      <td>11210947</td>\n",
       "      <td>10/12/2021</td>\n",
       "      <td>Scarlet Decollibus</td>\n",
       "    </tr>\n",
       "    <tr>\n",
       "      <th>26803</th>\n",
       "      <td>13079523</td>\n",
       "      <td>10/11/2021</td>\n",
       "      <td>Mike Vickers</td>\n",
       "    </tr>\n",
       "    <tr>\n",
       "      <th>26806</th>\n",
       "      <td>10101649</td>\n",
       "      <td>10/12/2021</td>\n",
       "      <td>Dylan Burke</td>\n",
       "    </tr>\n",
       "    <tr>\n",
       "      <th>26807</th>\n",
       "      <td>12881325</td>\n",
       "      <td>10/15/2021</td>\n",
       "      <td>Kevin Lomeli</td>\n",
       "    </tr>\n",
       "  </tbody>\n",
       "</table>\n",
       "<p>7824 rows × 3 columns</p>\n",
       "</div>"
      ],
      "text/plain": [
       "       Member ID Delivery Date              Driver\n",
       "11      10808317     6/23/2021         Dylan Burke\n",
       "13      10808317     7/21/2021          Nate Mills\n",
       "14      10808317      8/4/2021         Dylan Burke\n",
       "15      10808317     8/18/2021         Dylan Burke\n",
       "16      10808317      9/1/2021         Dylan Burke\n",
       "...          ...           ...                 ...\n",
       "26781   14176273    10/15/2021  Scarlet Decollibus\n",
       "26782   11210947    10/12/2021  Scarlet Decollibus\n",
       "26803   13079523    10/11/2021        Mike Vickers\n",
       "26806   10101649    10/12/2021         Dylan Burke\n",
       "26807   12881325    10/15/2021        Kevin Lomeli\n",
       "\n",
       "[7824 rows x 3 columns]"
      ]
     },
     "execution_count": 7,
     "metadata": {},
     "output_type": "execute_result"
    }
   ],
   "source": [
    "completed[['Member ID', 'Delivery Date', 'Driver']].dropna()"
   ]
  },
  {
   "cell_type": "code",
   "execution_count": 8,
   "metadata": {},
   "outputs": [
    {
     "ename": "NameError",
     "evalue": "name 'change_keys' is not defined",
     "output_type": "error",
     "traceback": [
      "\u001b[1;31m---------------------------------------------------------------------------\u001b[0m",
      "\u001b[1;31mNameError\u001b[0m                                 Traceback (most recent call last)",
      "\u001b[1;32m<ipython-input-8-ac53d811dfa0>\u001b[0m in \u001b[0;36m<module>\u001b[1;34m\u001b[0m\n\u001b[0;32m      8\u001b[0m }\n\u001b[0;32m      9\u001b[0m \u001b[1;33m\u001b[0m\u001b[0m\n\u001b[1;32m---> 10\u001b[1;33m \u001b[0mcompleted\u001b[0m\u001b[1;33m.\u001b[0m\u001b[0mrename\u001b[0m\u001b[1;33m(\u001b[0m\u001b[0mcolumns\u001b[0m\u001b[1;33m=\u001b[0m\u001b[0mchange_keys\u001b[0m\u001b[1;33m)\u001b[0m\u001b[1;33m\u001b[0m\u001b[1;33m\u001b[0m\u001b[0m\n\u001b[0m",
      "\u001b[1;31mNameError\u001b[0m: name 'change_keys' is not defined"
     ]
    }
   ],
   "source": [
    "emails = {\n",
    "    'Dylan Burke': 'dburke@gcfb.org',\n",
    "    'Nate Mills': 'nmills@gcfb.org',\n",
    "    'Scarlet Decollibus': 'sdecollibus@gcfb.org',\n",
    "    'Kevin Lomeli': 'klomeli@gcfb.org',\n",
    "    'Lucy Nord': 'lnord@gcfb.org',\n",
    "    'Mike Vickers': 'mvickers@gcfb.org',\n",
    "}\n",
    "\n",
    "completed.rename(columns=change_keys)"
   ]
  },
  {
   "cell_type": "code",
   "execution_count": null,
   "metadata": {},
   "outputs": [],
   "source": []
  }
 ],
 "metadata": {
  "kernelspec": {
   "display_name": "Python 3",
   "language": "python",
   "name": "python3"
  },
  "language_info": {
   "codemirror_mode": {
    "name": "ipython",
    "version": 3
   },
   "file_extension": ".py",
   "mimetype": "text/x-python",
   "name": "python",
   "nbconvert_exporter": "python",
   "pygments_lexer": "ipython3",
   "version": "3.8.5"
  }
 },
 "nbformat": 4,
 "nbformat_minor": 4
}

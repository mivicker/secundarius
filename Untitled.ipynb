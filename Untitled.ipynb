{
 "cells": [
  {
   "cell_type": "code",
   "execution_count": 1,
   "metadata": {},
   "outputs": [],
   "source": [
    "import os\n",
    "from pathlib import Path\n",
    "from collections import defaultdict\n",
    "import csv\n",
    "import routes.logic.box as box\n",
    "import routes.logic.adapter as adapter\n",
    "import routes.logic.van as van\n",
    "from routes.logic import download_deliveries as dd\n",
    "from counts.models import Warehouse"
   ]
  },
  {
   "cell_type": "code",
   "execution_count": 2,
   "metadata": {},
   "outputs": [],
   "source": [
    "os.environ[\"DJANGO_ALLOW_ASYNC_UNSAFE\"] = \"true\""
   ]
  },
  {
   "cell_type": "code",
   "execution_count": 3,
   "metadata": {},
   "outputs": [],
   "source": [
    "download = dd.collect_time_span('2022-03-01', '2022-03-31')\n",
    "\n",
    "cleaned = adapter.clean_unrouted(download)"
   ]
  },
  {
   "cell_type": "code",
   "execution_count": 5,
   "metadata": {},
   "outputs": [],
   "source": [
    "wh = adapter.build_warehouse_from_db(Warehouse.objects.last())\n",
    "\n",
    "records = box.sum_prototypes(\n",
    "    [\n",
    "        box.to_prototype(box.build_box_from_order(order)(wh))\n",
    "        for order in orders\n",
    "    ]\n",
    ")"
   ]
  },
  {
   "cell_type": "code",
   "execution_count": 6,
   "metadata": {},
   "outputs": [],
   "source": [
    "with open(Path(Path.home(), 'Desktop', 'test.csv'), 'w', newline='') as csvfile:\n",
    "    fieldnames = ['item_code', 'quantity']\n",
    "    writer = csv.DictWriter(csvfile, fieldnames=fieldnames)\n",
    "    \n",
    "    writer.writeheader()\n",
    "    for item_code, quantity in records:\n",
    "        writer.writerow({'item_code': item_code, 'quantity': quantity})\n",
    "    "
   ]
  },
  {
   "cell_type": "code",
   "execution_count": 8,
   "metadata": {},
   "outputs": [],
   "source": [
    "def key_group(dictionaries, keys):\n",
    "    if type(keys) != tuple:\n",
    "        keys = (keys,)\n",
    "    result = defaultdict(lambda: [])\n",
    "    \n",
    "    for dictionary in dictionaries:\n",
    "        key = tuple(dictionary.get(key, 'missing') for key in keys)\n",
    "        \n",
    "        result[key].append(dictionary)\n",
    "        \n",
    "    return dict(result)"
   ]
  },
  {
   "cell_type": "code",
   "execution_count": 9,
   "metadata": {},
   "outputs": [],
   "source": [
    "groups = key_group(cleaned, ('delivery_date', 'deliverytime'))"
   ]
  },
  {
   "cell_type": "code",
   "execution_count": 18,
   "metadata": {},
   "outputs": [],
   "source": [
    "translator = adapter.Translator()\n",
    "\n",
    "result = []\n",
    "for group, deliveries in groups.items():\n",
    "    date, time_window = group\n",
    "    whs = Warehouse.objects.filter(date=date, time_window=time_window)\n",
    "    if whs:\n",
    "        warehouse = adapter.build_warehouse_from_db(whs.first())\n",
    "    else:\n",
    "        warehouse = adapter.build_basic_warehouse()\n",
    "    \n",
    "    orders = [adapter.build_box_order(stop)(translator) for stop in deliveries]\n",
    "    \n",
    "    temp = box.sum_prototypes(\n",
    "            [\n",
    "                box.to_prototype(box.build_box_from_order(order)(warehouse))\n",
    "                for order in orders\n",
    "            ]\n",
    "        )\n",
    "    \n",
    "    result = box.add_prototypes(result, temp)\n",
    "    "
   ]
  },
  {
   "cell_type": "code",
   "execution_count": 21,
   "metadata": {},
   "outputs": [
    {
     "data": {
      "text/plain": [
       "[('MG1063', 649),\n",
       " ('MG1048', 153),\n",
       " ('MG1034', 1042),\n",
       " ('MG1131', 451),\n",
       " ('MG1040P', 660),\n",
       " ('MG1021', 468),\n",
       " ('MG1022', 438),\n",
       " ('MG1382P', 460),\n",
       " ('MG0024C', 1010),\n",
       " ('MG0043', 660),\n",
       " ('MG0005', 217),\n",
       " ('MG0021', 336),\n",
       " ('MG0048', 2187),\n",
       " ('MG1380', 628),\n",
       " ('MG1186', 574),\n",
       " ('MG0079', 360),\n",
       " ('MG0005H', 224),\n",
       " ('MG1187', 289),\n",
       " ('MG1024', 897),\n",
       " ('MG1181', 575),\n",
       " ('MG1056', 1279),\n",
       " ('MG1015', 497),\n",
       " ('MG1043', 561),\n",
       " ('MG1041P', 587),\n",
       " ('MG1195', 509),\n",
       " ('MG1018', 402),\n",
       " ('MG1010', 509),\n",
       " ('MG1136', 497),\n",
       " ('MG0030', 984),\n",
       " ('MG0037', 365),\n",
       " ('MG1203', 27),\n",
       " ('MG1013', 14),\n",
       " ('MG1011P', 618),\n",
       " ('MG0032', 290),\n",
       " ('MG1385P', 75),\n",
       " ('MG1178', 304),\n",
       " ('MG1214', 120),\n",
       " ('MG1062P', 304),\n",
       " ('MG1007', 408),\n",
       " ('MG1386P', 97),\n",
       " ('MG1383P', 81),\n",
       " ('MG0011A', 869),\n",
       " ('MG0059', 43),\n",
       " ('MG1006', 379),\n",
       " ('MG1028', 249),\n",
       " ('MG0025', 270),\n",
       " ('MG1241', 73),\n",
       " ('MG1286', 273),\n",
       " ('MG1016', 396),\n",
       " ('MG1005', 43),\n",
       " ('MG1164', 121),\n",
       " ('MG0031', 301),\n",
       " ('MG0051', 47),\n",
       " ('MG0040', 409),\n",
       " ('MG0008', 132),\n",
       " ('MG1050', 263),\n",
       " ('MG1139', 258),\n",
       " ('MG0075', 299),\n",
       " ('MG0008H', 137),\n",
       " ('MG1059', 21),\n",
       " ('MG0009', 26),\n",
       " ('MG1014', 78),\n",
       " ('MG1381', 46),\n",
       " ('MG1001', 11),\n",
       " ('MG1039', 13),\n",
       " ('MG0050', 9),\n",
       " ('MG1384P', 13),\n",
       " ('MG1212', 18)]"
      ]
     },
     "execution_count": 21,
     "metadata": {},
     "output_type": "execute_result"
    }
   ],
   "source": [
    "result"
   ]
  },
  {
   "cell_type": "code",
   "execution_count": 22,
   "metadata": {},
   "outputs": [],
   "source": [
    "import numpy as np"
   ]
  },
  {
   "cell_type": "code",
   "execution_count": 23,
   "metadata": {},
   "outputs": [
    {
     "data": {
      "text/plain": [
       "18"
      ]
     },
     "execution_count": 23,
     "metadata": {},
     "output_type": "execute_result"
    }
   ],
   "source": [
    "44-26"
   ]
  },
  {
   "cell_type": "code",
   "execution_count": null,
   "metadata": {},
   "outputs": [],
   "source": []
  }
 ],
 "metadata": {
  "kernelspec": {
   "display_name": "Django Shell-Plus",
   "language": "python",
   "name": "django_extensions"
  },
  "language_info": {
   "codemirror_mode": {
    "name": "ipython",
    "version": 3
   },
   "file_extension": ".py",
   "mimetype": "text/x-python",
   "name": "python",
   "nbconvert_exporter": "python",
   "pygments_lexer": "ipython3",
   "version": "3.8.5"
  }
 },
 "nbformat": 4,
 "nbformat_minor": 4
}

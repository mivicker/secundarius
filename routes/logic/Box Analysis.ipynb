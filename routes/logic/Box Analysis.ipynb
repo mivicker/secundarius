{
 "cells": [
  {
   "cell_type": "code",
   "execution_count": 1,
   "metadata": {},
   "outputs": [],
   "source": [
    "from pathlib import Path\n",
    "from typing import Tuple\n",
    "\n",
    "import pandas as pd\n",
    "\n",
    "from box import (Item, build_box, Warehouse, \n",
    "                 estimate_cost, split_box, sum_prototypes)\n",
    "from adapter import BoxOrder, string_box\n",
    "from tinydb import TinyDB, Query\n",
    "from tinydb.operations import delete\n",
    "\n",
    "db = TinyDB('db.json')\n",
    "product_table = db.table('products')\n",
    "menus_table = db.table('menus')\n",
    "\n",
    "product_cache = {product['item_code']: Item(**product) \n",
    "                 for product in product_table.all()}\n",
    "menu_cache = {menu['name']: menu['products'] \n",
    "              for menu in menus_table.all()}"
   ]
  },
  {
   "cell_type": "code",
   "execution_count": 129,
   "metadata": {},
   "outputs": [],
   "source": [
    "pricing = Path(Path.home(), 'desktop', 'SeasonalityAnalysis', 'MGPricing100119to100121.xls')\n",
    "all_purchases = pd.read_excel(pricing)\n",
    "\n",
    "df = pd.read_csv(Path(Path.home(), 'Desktop', 'DELIVERIES.csv'))\n",
    "\n",
    "completed = df[df['Delivery Status'].isin(['Completed', 'Future'])]\n",
    "\n",
    "failed = df[df['Delivery Status'] == 'Failed']"
   ]
  },
  {
   "cell_type": "code",
   "execution_count": 130,
   "metadata": {},
   "outputs": [],
   "source": [
    "purchases = all_purchases.copy()[all_purchases['Date Received'] >= pd.Timestamp('2020-10-01')]\n",
    "purchases['unit price'] = purchases['FoodBank Cost/Value'] / purchases['Qty']\n",
    "\n",
    "maxes = purchases.groupby('Item Code')['unit price'].agg(max)\n",
    "maxes.name = \"max\"\n",
    "\n",
    "mins = purchases.groupby('Item Code')['unit price'].agg(min)\n",
    "mins.name = \"min\"\n",
    "\n",
    "means = purchases.groupby('Item Code')['unit price'].agg('mean')\n",
    "means.name = \"mean\"\n",
    "\n",
    "price_summary = pd.concat([maxes, mins, means], axis=1)"
   ]
  },
  {
   "cell_type": "code",
   "execution_count": 131,
   "metadata": {},
   "outputs": [],
   "source": [
    "min_lookup = price_summary['min'].to_dict()\n",
    "\n",
    "def mute_price(item:dict) -> dict:\n",
    "    return {key: val for key, val in item.__dict__.items() if key != 'price'}\n",
    "\n",
    "price_muted = {key: mute_price(val) for key, val in product_cache.items()}\n",
    "\n",
    "min_price_cache = {key: Item(**val, price=min_lookup[key]) for key, val in price_muted.items()}"
   ]
  },
  {
   "cell_type": "code",
   "execution_count": 132,
   "metadata": {},
   "outputs": [],
   "source": [
    "warehouse = Warehouse(\n",
    "    date=pd.Timestamp.now(),\n",
    "    window='AM',\n",
    "    substitutions=[],\n",
    "    menus=menu_cache,\n",
    "    items=product_cache\n",
    ")\n",
    "\n",
    "cheap_warehouse = Warehouse(\n",
    "    date=pd.Timestamp.now(),\n",
    "    window='AM',\n",
    "    substitutions=[],\n",
    "    menus=menu_cache,\n",
    "    items=min_price_cache\n",
    ")\n",
    "\n",
    "order = BoxOrder(\n",
    "    menu_name='Standard B Family',\n",
    ")"
   ]
  },
  {
   "cell_type": "code",
   "execution_count": 133,
   "metadata": {},
   "outputs": [],
   "source": [
    "def string_box(stop:dict) -> str:\n",
    "    \"\"\"\n",
    "    A hack...\n",
    "    \"\"\"\n",
    "    return  stop['Box Type'] + ' ' + stop['Box Menu'] + ' ' + stop['Box Size']\n",
    "\n",
    "prototypes = [menu_cache[menu] for menu in string_box(completed)]\n",
    "\n",
    "big_box_proto = sum_prototypes(prototypes)\n",
    "\n",
    "big_box = build_box(big_box_proto)(warehouse)\n",
    "cheap_big_box = build_box(big_box_proto)(cheap_warehouse)"
   ]
  },
  {
   "cell_type": "code",
   "execution_count": 134,
   "metadata": {},
   "outputs": [
    {
     "name": "stdout",
     "output_type": "stream",
     "text": [
      "Ave cost: 477933.8\n",
      "\"Cheap\" cost: 393629.6496999999\n",
      "07-Dairy: Yogurt, Cheese, Milk, Butter, Sour Cream, Ice Cream: mean price: 114901.61 cheap price: 93122.93\n",
      "\t potential savings: 21778.68\n",
      "15-Meat/Fish/Poultry: mean price: 88594.18 cheap price: 76442.74\n",
      "\t potential savings: 12151.44\n",
      "27-Vegetables - Canned & Frozen: mean price: 26942.75 cheap price: 26229.72\n",
      "\t potential savings: 713.03\n",
      "26-Spice/Condiments/Sauce: Herbs, Salt, Sugar, Mixes, Vinegar, Extracts, Mustard, Syrup, Jelly, Sauces, Salad Oil: mean price: 4776.03 cheap price: 5957.37\n",
      "\t potential savings: -1181.34\n",
      "10-Fruit: Canned & Frozen: mean price: 42168.54 cheap price: 41261.56\n",
      "\t potential savings: 906.98\n",
      "05-Cereal: Hot & Cold: mean price: 22558.28 cheap price: 21279.53\n",
      "\t potential savings: 1278.75\n",
      "23-Protein -Non-Meat: Peanut Butter, Beans, Eggs, Pork & Beans, Nuts: mean price: 23206.54 cheap price: 21517.85\n",
      "\t potential savings: 1688.69\n",
      "21-Pasta: Macaroni, Spaghetti, Noodles: mean price: 11308.63 cheap price: 12100.57\n",
      "\t potential savings: -791.94\n",
      "04-Bread/Bakery: Bread, Biscuits, Rolls, Batter, Tortillas, Pie Crust: mean price: 16943.06 cheap price: 14175.08\n",
      "\t potential savings: 2767.98\n",
      "28-Fresh Fruits/Vegetables: mean price: 120353.53 cheap price: 75253.23\n",
      "\t potential savings: 45100.3\n",
      "24-Rice: mean price: 3537.45 cheap price: 3645.15\n",
      "\t potential savings: -107.7\n",
      "11-Grain: Flour, Corn Meal, Matzo Meal: mean price: 2404.99 cheap price: 2404.99\n",
      "\t potential savings: 0.0\n",
      "03-Beverage: Coffee, Tea, Soda, Drinks: mean price: 238.21 cheap price: 238.93\n",
      "\t potential savings: -0.72\n"
     ]
    }
   ],
   "source": [
    "total_cost = estimate_cost(big_box)\n",
    "cheap_cost = estimate_cost(cheap_big_box)\n",
    "\n",
    "print(f'Ave cost: {total_cost}')\n",
    "print(f'\"Cheap\" cost: {cheap_cost}')\n",
    "for (rack, items), (cheap_rack, cheap_items) in zip(split_box('type', big_box).items(), \n",
    "                                                    split_box('type', cheap_big_box).items()):\n",
    "    \n",
    "    print(f'{rack}: mean price: {round(estimate_cost(items), 2)} cheap price: {round(estimate_cost(cheap_items), 2)}')\n",
    "    print(f'\\t potential savings: {round(estimate_cost(items) - estimate_cost(cheap_items), 2)}')"
   ]
  },
  {
   "cell_type": "code",
   "execution_count": 136,
   "metadata": {},
   "outputs": [
    {
     "data": {
      "text/plain": [
       "1.8547458463563087"
      ]
     },
     "execution_count": 136,
     "metadata": {},
     "output_type": "execute_result"
    }
   ],
   "source": [
    "45100 / len(completed)"
   ]
  },
  {
   "cell_type": "code",
   "execution_count": null,
   "metadata": {},
   "outputs": [],
   "source": []
  }
 ],
 "metadata": {
  "kernelspec": {
   "display_name": "Python 3",
   "language": "python",
   "name": "python3"
  },
  "language_info": {
   "codemirror_mode": {
    "name": "ipython",
    "version": 3
   },
   "file_extension": ".py",
   "mimetype": "text/x-python",
   "name": "python",
   "nbconvert_exporter": "python",
   "pygments_lexer": "ipython3",
   "version": "3.8.5"
  }
 },
 "nbformat": 4,
 "nbformat_minor": 4
}
